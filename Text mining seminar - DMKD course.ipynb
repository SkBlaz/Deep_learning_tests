{
 "cells": [
  {
   "cell_type": "markdown",
   "metadata": {
    "slideshow": {
     "slide_type": "slide"
    }
   },
   "source": [
    "# Introduction \n",
    "\n",
    "##Created by Blaž Škrlj, ICT2 programme"
   ]
  },
  {
   "cell_type": "markdown",
   "metadata": {
    "slideshow": {
     "slide_type": "subslide"
    }
   },
   "source": [
    "Text mining is one of the fastest growing fields of modern data science. Its applications range from sentiment analysis, fraud \n",
    "detection, semantic net analysis to discovery of new knowledge from existing data sources. There are many well known tools, raedily available for text analysis. Such tools include ontology editors, but also platforms for transforming the text into machine learning algorithm acceptable form. In this work, we consider one of such approaches using some of the well known libraries for text analysis in Python. \n",
    "\n",
    "Throughout the document, individual libraries are presented and thus are omitted in this introductory section. In this seminar work, the problem considered deals with prediction of writing style. Two styles are considered, namely objective and subjective style. The dataset considered is one of the well known datasets from this field, representing thousands of movie reviews of both types. The dataset can be found at the following address: http://www.cs.cornell.edu/people/pabo/movie-review-data/rotten_imdb.tar.gz\n",
    "\n",
    "The procedure for construction of a predictive model, which can differ between different types of documents could be described in the following form:\n",
    "\n",
    "* Preprocess the initial dataset into a format, which can be fed into a machine learning algorithm\n",
    "* preprocessing techniques are to include some commons steps, such as:\n",
    "    \n",
    "    1. Stemming\n",
    "    \n",
    "    2. Stop word removal\n",
    "    \n",
    "    3. Removal of random characters\n",
    "    \n",
    "    4. Visualization\n",
    "    \n",
    "    5. Dictionary construction\n",
    "    \n",
    "    6. Vectorization\n",
    "    \n",
    "    7. Splitting\n",
    "    \n",
    "    8. Prediction\n",
    "    \n",
    "    9. Estimation\n",
    " \n",
    " \n",
    "##first code block represents the file reading and reformatting to a suitable form\n",
    "\n",
    "Before continuation of this analysis, let us state one of the main goals of this study.\n",
    "\n",
    "The models constructed should be at least as good as the ones reported in scientific literature, where benchmark scores are from the article by Andrew L. et. al. (1), related to sentiment analysis. \n",
    "\n",
    "<img src=\"image.png\">\n",
    "\n",
    "Mind that we are using the third, \"subjectivity\" dataset.\n",
    "\n",
    "\n",
    "# Modeling"
   ]
  },
  {
   "cell_type": "code",
   "execution_count": 1,
   "metadata": {
    "collapsed": false,
    "slideshow": {
     "slide_type": "notes"
    }
   },
   "outputs": [],
   "source": [
    "# first, some imports, some are processing related, others are general\n",
    "\n",
    "from nltk.corpus import stopwords\n",
    "import collections\n",
    "import pandas as pd\n",
    "from nltk.stem.porter import *\n",
    "from nltk import FreqDist\n",
    "import matplotlib.pyplot as plt\n",
    "from sklearn.feature_extraction.text import TfidfVectorizer, CountVectorizer\n",
    "import numpy as np\n",
    "from sklearn.svm import SVC\n",
    "from sklearn.metrics import accuracy_score\n",
    "from sklearn.feature_extraction.text import CountVectorizer\n",
    "from sklearn.feature_extraction.text import TfidfTransformer\n",
    "from sklearn.linear_model import SGDClassifier\n",
    "from sklearn.model_selection import GridSearchCV\n",
    "from sklearn.pipeline import Pipeline\n",
    "from time import time\n",
    "\n",
    "## init stemmer\n",
    "stemmer = PorterStemmer()\n",
    "\n",
    "## stopwords selection\n",
    "stop = set(stopwords.words('english'))\n",
    "\n",
    "## init containers for further usage\n",
    "train_corpus = []\n",
    "test_corpus = []\n",
    "\n",
    "## vocabulary for experimentation - this is very important!\n",
    "vocab = [];\n",
    "\n",
    "## Some additional tweaks\n",
    "tabu_words = [\"\\n\",\"(\",\")\",'\"']\n",
    "\n",
    "## for dataset construction\n",
    "index = 0\n",
    "\n",
    "## preprocessing function\n",
    "def stem_stopwords(entry):\n",
    "    return list(filter(lambda x: x!= None,[stemmer.stem(word) if word not in \n",
    "                                           stop and word not in tabu_words \n",
    "                                           else None for word in entry.split(\" \")]))\n",
    "\n",
    "## read subjective dataset\n",
    "with open('subjective.txt','r',encoding=\"ISO-8859-1\") as f:\n",
    "    for line in f:\n",
    "        index +=1\n",
    "        if index <= 3500:\n",
    "            ## this will be labeled as subj (0)\n",
    "            train_corpus.append((int(1),\" \".join(stem_stopwords(line))))\n",
    "            \n",
    "            for token in stem_stopwords(line):\n",
    "                ## common vocabulary\n",
    "                vocab.append(token)\n",
    "        else:\n",
    "            test_corpus.append((int(1),(\" \".join(stem_stopwords(line)))))\n",
    "\n",
    "## read objective dataset\n",
    "with open('objective.txt','r',encoding=\"ISO-8859-1\") as f:\n",
    "    for line in f:\n",
    "        index +=1\n",
    "        ## from 5k to 8.5k are the next index ranges..\n",
    "        if index <= 8500:\n",
    "        ## labeled as (1)\n",
    "            train_corpus.append((int(0),\" \".join(stem_stopwords(line))))\n",
    "\n",
    "            for token in stem_stopwords(line):\n",
    "                \n",
    "                ## common vocabulary\n",
    "                vocab.append(token)\n",
    "        else:\n",
    "            test_corpus.append((int(0),(\" \".join(stem_stopwords(line)))))\n",
    "\n"
   ]
  },
  {
   "cell_type": "markdown",
   "metadata": {
    "slideshow": {
     "slide_type": "notes"
    }
   },
   "source": [
    "In the first code section we can see, that each review is considered as a singled document. Whole dataframe could also be splitted in an arbitrary way. We can see, that we have prepared a vocabulary for matrix construction (vectorization), and two lists of processed reviews. As it will be seen later on, we decide to take 75% of the data as the train set and 25% as the test set. Cross validation procedure is implemented in a specialized pipeline for individual algorithms.\n",
    "\n",
    "Before actually doing some vectorization, it can be useful to observe CDF (cumulative distribution function), to inspect the data visually, at least to some extent. Following images represent CDF for different dataset sizes"
   ]
  },
  {
   "cell_type": "code",
   "execution_count": 2,
   "metadata": {
    "collapsed": false,
    "slideshow": {
     "slide_type": "slide"
    }
   },
   "outputs": [
    {
     "name": "stdout",
     "output_type": "stream",
     "text": [
      "[('.', 8590), (',', 8250), (\"'\", 2453), ('film', 782), ('movi', 572), ('one', 530), (\"n't\", 489), ('it', 474), ('stori', 385), ('life', 363)]\n"
     ]
    },
    {
     "data": {
      "image/png": "[encoded data removed]",
      "text/plain": [
       "<matplotlib.figure.Figure at 0x7f70471d55f8>"
      ]
     },
     "metadata": {},
     "output_type": "display_data"
    },
    {
     "data": {
      "image/png": "[encoded data removed]",
      "text/plain": [
       "<matplotlib.figure.Figure at 0x7f700818e240>"
      ]
     },
     "metadata": {},
     "output_type": "display_data"
    },
    {
     "name": "stderr",
     "output_type": "stream",
     "text": [
      "/usr/local/lib/python3.4/dist-packages/IPython/html.py:14: ShimWarning: The `IPython.html` package has been deprecated. You should import from `notebook` instead. `IPython.html.widgets` has moved to `ipywidgets`.\n",
      "  \"`IPython.html.widgets` has moved to `ipywidgets`.\", ShimWarning)\n"
     ]
    },
    {
     "data": {
      "text/plain": [
       "<matplotlib.axes._subplots.AxesSubplot at 0x7f7007fafc18>"
      ]
     },
     "execution_count": 2,
     "metadata": {},
     "output_type": "execute_result"
    },
    {
     "data": {
      "image/png": "[encoded data removed]",
      "text/plain": [
       "<matplotlib.figure.Figure at 0x7f70081cafd0>"
      ]
     },
     "metadata": {},
     "output_type": "display_data"
    }
   ],
   "source": [
    "% matplotlib inline\n",
    "from nltk import word_tokenize\n",
    "\n",
    "\n",
    "# some common words\n",
    "tokens = []\n",
    "for entry in train_corpus:\n",
    "    for token in word_tokenize(entry[1]):\n",
    "        tokens.append(token)\n",
    "\n",
    "fd1 = FreqDist(tokens)\n",
    "fd2 = FreqDist(vocab)\n",
    "print(fd1.most_common(10))\n",
    "\n",
    "\n",
    "## plot frequencies\n",
    "fd1.plot(50,cumulative=True, title=\"Train set vocabulary frequencies\")\n",
    "fd2.plot(50,cumulative=True, title=\"Whole vocabulary frequency plot\")\n",
    "\n",
    "\n",
    "most_common = [x for _,x in fd2.most_common(350)]\n",
    "\n",
    "import numpy as np\n",
    "import pandas as pd\n",
    "from scipy import stats, integrate\n",
    "import matplotlib.pyplot as plt\n",
    "import seaborn as sns\n",
    "sns.set(color_codes=True)\n",
    "sns.distplot(most_common, rug=True)"
   ]
  },
  {
   "cell_type": "markdown",
   "metadata": {
    "slideshow": {
     "slide_type": "notes"
    }
   },
   "source": [
    "An important part of any machine learning process is the splitting of the data into two separate parts, a training and the test set. This can be done via a specialized function, like the one below:"
   ]
  },
  {
   "cell_type": "code",
   "execution_count": null,
   "metadata": {
    "collapsed": false,
    "slideshow": {
     "slide_type": "subslide"
    }
   },
   "outputs": [],
   "source": [
    "def get_train_test(corpus):\n",
    "    corp = [x[1] for x in corpus]\n",
    "    labs = [x[0] for x in corpus]\n",
    "    vectorizer = TfidfVectorizer(min_df=1, max_features=50)\n",
    "    X = vectorizer.fit_transform(corp)\n",
    "    return X,labs"
   ]
  },
  {
   "cell_type": "markdown",
   "metadata": {
    "slideshow": {
     "slide_type": "slide"
    }
   },
   "source": [
    "where the Tfidf function represents an important aspect of many text mining processes. Using Tfidf, defined as:\n",
    "\n",
    "$$ TfIdf = Tf * Idf  $$ \n",
    "\n",
    "where Tf simply represents the term frequency \n",
    "\n",
    "$$ \\frac{\\sum_{n=1}^{occurs} n_{i}}  {\\sum_{n=1}^{all} n_{i}} $$\n",
    "\n",
    "and the Idf is represented as:\n",
    "\n",
    "$$ Idf =  log \\frac {N_{all_documents}}{N_{documents_contain_word}}   $$\n",
    "\n",
    "From those equations we can see, that the the words taken into account in this vectorization process are contained in a vocabulary prior to the algorithm execution! Many implementations are capable of this step by themselves, yet if we wish to explore the effect of vocabulary (and later on features) on the models, we can construct it on our own.\n",
    "\n",
    "Creation of the models is the key part, where we consider 3 different approaches (models). Support vector machines, Naive bayes and Deep learning. Although Naive bayes can also be used in a different ways to deal with textual data, we consider it here as a standard classifier. \n",
    "\n",
    "Another important aspect of this part of the processes is the data structure, responsible for containment of sparse matrices, that is, matrices with lots of zero valued elements (>97%). Such matrices are stored in special containers, where only non 0 elements are used along with pointers to their locations in the matrix. This is one of the standard approaches in numerical computation and linear algebra to reduce search space and make computation faster."
   ]
  },
  {
   "cell_type": "code",
   "execution_count": null,
   "metadata": {
    "collapsed": false,
    "slideshow": {
     "slide_type": "slide"
    }
   },
   "outputs": [],
   "source": [
    "\n",
    "svm_model = SVC(C=1000000.0, kernel='rbf')\n",
    "\n",
    "pipeline = Pipeline([\n",
    "    ('tfidf',  TfidfVectorizer()),\n",
    "    ('svm',svm_model)\n",
    "])\n",
    "\n",
    "parameters = {'svm__C' : [10,100,1000,10000],\n",
    "              'tfidf__max_features' : list(range(1,10000,10))\n",
    "}\n",
    "\n",
    "## pipeline for SVMs\n",
    "if __name__ == \"__main__\":\n",
    "\n",
    "    grid_search = GridSearchCV(pipeline,parameters, n_jobs=4, verbose=1)\n",
    "    t0 = time()\n",
    "    grid_search.fit([x[1] for x in train_corpus], [x[0] for x in train_corpus])\n",
    "    print(\"done in %0.3fs\" % (time() - t0))\n",
    "    print(\"Best score: %0.3f\" % grid_search.best_score_)\n",
    "    print(\"Best parameters set:\")\n",
    "    best_parameters = grid_search.best_estimator_.get_params()\n",
    "    for param_name in sorted(parameters.keys()):\n",
    "        print(\"\\t%s: %r\" % (param_name, best_parameters[param_name]))\n",
    "\n",
    "\n",
    "## pipeline for NB\n",
    "pipeline2 = Pipeline([\n",
    "    ('tfidf',  TfidfVectorizer()),\n",
    "    ('MNB', MultinomialNB())\n",
    "])\n",
    "\n",
    "parameters2 = {'svm__C' : [10,100,1000,10000],\n",
    "              'tfidf__max_features' : list(range(1,10000,10))\n",
    "}\n",
    "\n",
    "if __name__ == \"__main__\":\n",
    "\n",
    "    grid_search2 = GridSearchCV(pipeline2,parameters2, n_jobs=4, verbose=1)\n",
    "    t0 = time()\n",
    "    grid_search2.fit([x[1] for x in train_corpus], [x[0] for x in train_corpus])\n",
    "    print(\"done in %0.3fs\" % (time() - t0))\n",
    "    print(\"Best score: %0.3f\" % grid_search2.best_score_)\n",
    "    print(\"Best parameters set:\")\n",
    "    best_parameters = grid_search2.best_estimator_.get_params()\n",
    "    for param_name in sorted(parameters2.keys()):\n",
    "        print(\"\\t%s: %r\" % (param_name, best_parameters[param_name]))\n",
    "\n",
    "# done in 27933.576s\n",
    "# Best score: 0.884\n",
    "# Best parameters set:\n",
    "# \tsvm__C: 1000\n",
    "# \ttfidf__max_features: 5881\n"
   ]
  },
  {
   "cell_type": "markdown",
   "metadata": {
    "slideshow": {
     "slide_type": "slide"
    }
   },
   "source": [
    "The code abowe demonstrates the grid search option for exploration of different models. The same principle can be applied to train the Naive bayesian classifier, which is formally defined as:\n",
    "\n",
    "$$ p(C_{k}|x_{1}..x_{n}) =argmax (p(C_{k}) \\prod_{i=1}^{n} p(x_{i}|C_{k})) $$\n",
    "\n",
    "Although one of the simplest possible models, this concept many times appears as the best option for text mining related problems. In the section below, we present the implementation of multinomialNB method using sklearn library (Python3)."
   ]
  },
  {
   "cell_type": "code",
   "execution_count": null,
   "metadata": {
    "collapsed": true,
    "slideshow": {
     "slide_type": "slide"
    }
   },
   "outputs": [],
   "source": [
    "## pipeline for NB\n",
    "pipeline2 = Pipeline([\n",
    "    ('tfidf',  TfidfVectorizer()),\n",
    "    ('MNB', MultinomialNB())\n",
    "])\n",
    "\n",
    "parameters2 = {\n",
    "              'tfidf__max_features' : list(range(1,10000,10))\n",
    "}\n",
    "\n",
    "if __name__ == \"__main__\":\n",
    "\n",
    "    grid_search2 = GridSearchCV(pipeline2,parameters2, n_jobs=4, verbose=1)\n",
    "    t0 = time()\n",
    "    grid_search2.fit([x[1] for x in train_corpus], [x[0] for x in train_corpus])\n",
    "    print(\"done in %0.3fs\" % (time() - t0))\n",
    "    print(\"Best score: %0.3f\" % grid_search2.best_score_)\n",
    "    print(\"Best parameters set:\")\n",
    "    best_parameters = grid_search2.best_estimator_.get_params()\n",
    "    for param_name in sorted(parameters2.keys()):\n",
    "        print(\"\\t%s: %r\" % (param_name, best_parameters[param_name]))\n",
    "\n",
    "\n",
    "\n",
    "# Best score: 0.901\n",
    "# Best parameters set:\n",
    "# \ttfidf__max_features: 9741\n"
   ]
  },
  {
   "cell_type": "markdown",
   "metadata": {
    "slideshow": {
     "slide_type": "subslide"
    }
   },
   "source": [
    "The same process can be conducted with one small difference - use of lemmatizer instead of a simple Porter stemmer. The code below demonstrates this task."
   ]
  },
  {
   "cell_type": "code",
   "execution_count": null,
   "metadata": {
    "collapsed": true,
    "slideshow": {
     "slide_type": "slide"
    }
   },
   "outputs": [],
   "source": [
    "## this will test the lematization approach.\n",
    "\n",
    "from nltk.stem import WordNetLemmatizer\n",
    "import numpy as np\n",
    "from nltk.corpus import stopwords\n",
    "import collections\n",
    "import pandas as pd\n",
    "from nltk.stem.porter import *\n",
    "from nltk import FreqDist\n",
    "import matplotlib.pyplot as plt\n",
    "from sklearn.feature_extraction.text import TfidfVectorizer, CountVectorizer\n",
    "import numpy as np\n",
    "from sklearn.svm import SVC\n",
    "from sklearn.metrics import accuracy_score\n",
    "from sklearn.feature_extraction.text import CountVectorizer\n",
    "from sklearn.feature_extraction.text import TfidfTransformer\n",
    "from sklearn.linear_model import SGDClassifier\n",
    "from sklearn.model_selection import GridSearchCV\n",
    "from sklearn.pipeline import Pipeline\n",
    "from time import time\n",
    "from sklearn.naive_bayes import MultinomialNB\n",
    "\n",
    "\n",
    "## Read the subjective files..\n",
    "subjective = {}\n",
    "stemmer = PorterStemmer() ## construct a stemmer\n",
    "stop = set(stopwords.words('english'))\n",
    "\n",
    "train_corpus = []\n",
    "test_corpus = []\n",
    "\n",
    "vocab = [];\n",
    "tabu_words = [\"\\n\",\"(\",\")\",'\"']\n",
    "\n",
    "## for dataset construction\n",
    "index = 0\n",
    "wordnet_lemmatizer = WordNetLemmatizer()\n",
    "\n",
    "\n",
    "## preprocessing function - use lematization\n",
    "def stem_stopwords(entry):\n",
    "    return list(filter(lambda x: x!= None,[wordnet_lemmatizer.lemmatize(word) \n",
    "                                           if word not in stop and word \n",
    "                                           not in tabu_words \n",
    "                                           else None for word in entry.split(\" \")]))\n",
    "\n",
    "with open('subjective.txt','r',encoding=\"ISO-8859-1\") as f:\n",
    "    for line in f:\n",
    "        index +=1\n",
    "        if index <= 3500:\n",
    "            ## this will be labeled as subj (0)\n",
    "            train_corpus.append((int(1),\" \".join(stem_stopwords(line))))\n",
    "            for token in stem_stopwords(line):\n",
    "                ## common vocabulary\n",
    "                vocab.append(token)\n",
    "        else:\n",
    "            test_corpus.append((int(1),(\" \".join(stem_stopwords(line)))))\n",
    "\n",
    "\n",
    "with open('objective.txt','r',encoding=\"ISO-8859-1\") as f:\n",
    "    for line in f:\n",
    "        index +=1\n",
    "        ## from 5k to 8.5k are the next index ranges..\n",
    "        if index <= 8500:\n",
    "        ## labeled as (1)\n",
    "            train_corpus.append((int(0),\" \".join(stem_stopwords(line))))\n",
    "\n",
    "            for token in stem_stopwords(line):\n",
    "                ## common vocabulary\n",
    "                vocab.append(token)\n",
    "        else:\n",
    "            test_corpus.append((int(0),(\" \".join(stem_stopwords(line)))))\n",
    "\n",
    "\n",
    "\n",
    "#.fit(train_data, train_labs)\n",
    "\n",
    "# predictions_svm = svm_model.predict(train_data)\n",
    "# print(\"SVM accuracy in %: \",accuracy_score(train_labs,predictions_svm))\n",
    "\n",
    "\n",
    "\n",
    "\n",
    "pipeline = Pipeline([\n",
    "    ('tfidf',  TfidfVectorizer()),\n",
    "    ('svm',SVC(C=1000000.0, kernel='rbf'))\n",
    "])\n",
    "\n",
    "parameters = {'svm__C' : [10,100,1000,10000],\n",
    "              'tfidf__max_features' : [1000,2000,3000,4000]\n",
    "}\n",
    "\n",
    "## pipeline for SVMs\n",
    "if __name__ == \"__main__\":\n",
    "\n",
    "    grid_search = GridSearchCV(pipeline,parameters, n_jobs=4, verbose=1)\n",
    "    t0 = time()\n",
    "    grid_search.fit([x[1] for x in train_corpus], [x[0] for x in train_corpus])\n",
    "    print(\"done in %0.3fs\" % (time() - t0))\n",
    "    print(\"Best score: %0.3f\" % grid_search.best_score_)\n",
    "    print(\"Best parameters set:\")\n",
    "    best_parameters = grid_search.best_estimator_.get_params()\n",
    "    for param_name in sorted(parameters.keys()):\n",
    "        print(\"\\t%s: %r\" % (param_name, best_parameters[param_name]))\n",
    "    predictions = grid_search.best_estimator_.predict([x[1] for x in test_corpus]) # test labs\n",
    "    targets = [x[0] for x in test_corpus]\n",
    "    print (\"SVM: \",accuracy_score(predictions,targets))\n",
    "\n",
    "\n",
    "## pipeline for NB\n",
    "pipeline2 = Pipeline([\n",
    "    ('tfidf',  TfidfVectorizer()),\n",
    "    ('MNB', MultinomialNB())\n",
    "])\n",
    "\n",
    "parameters2 = {\n",
    "              'tfidf__max_features' : [3000,4000]\n",
    "}\n",
    "\n",
    "if __name__ == \"__main__\":\n",
    "\n",
    "    grid_search2 = GridSearchCV(pipeline2,parameters2, n_jobs=4, verbose=1)\n",
    "    t0 = time()\n",
    "    grid_search2.fit([x[1] for x in train_corpus], [x[0] for x in train_corpus])\n",
    "    print(\"done in %0.3fs\" % (time() - t0))\n",
    "    print(\"Best score: %0.3f\" % grid_search2.best_score_)\n",
    "    print(\"Best parameters set:\")\n",
    "    best_parameters = grid_search2.best_estimator_.get_params()\n",
    "    for param_name in sorted(parameters2.keys()):\n",
    "        print(\"\\t%s: %r\" % (param_name, best_parameters[param_name]))\n",
    "    predictions = grid_search2.best_estimator_.predict([x[1] for x in test_corpus]) # test labs\n",
    "    targets = [x[0] for x in test_corpus]\n",
    "    print (\"NB: \",accuracy_score(predictions,targets))   #0.89\n",
    "\n",
    "    ## output\n",
    "    python3 lematizetest.py \n",
    "Fitting 3 folds for each of 16 candidates, totalling 48 fits\n",
    "[Parallel(n_jobs=4)]: Done  48 out of  48 | elapsed:  1.1min finished\n",
    "done in 74.157s\n",
    "Best score: 0.872\n",
    "Best parameters set:\n",
    "\tsvm__C: 1000\n",
    "\ttfidf__max_features: 4000\n",
    "SVM:  0.884666666667\n",
    "Fitting 3 folds for each of 2 candidates, totalling 6 fits\n",
    "[Parallel(n_jobs=4)]: Done   6 out of   6 | elapsed:    0.6s remaining:    0.0s\n",
    "[Parallel(n_jobs=4)]: Done   6 out of   6 | elapsed:    0.6s finished\n",
    "done in 1.143s\n",
    "Best score: 0.892\n",
    "Best parameters set:\n",
    "\ttfidf__max_features: 4000\n",
    "NB:  0.897\n",
    "\n",
    "real\t1m23.177s\n",
    "user\t4m40.508s\n",
    "sys\t0m2.348s\n"
   ]
  },
  {
   "cell_type": "markdown",
   "metadata": {
    "slideshow": {
     "slide_type": "subslide"
    }
   },
   "source": [
    "Up to now, we demonstrated, that repeated cross validation procedure can be a feasible training method for construction of objectivity classifiers. The methods implemented achieve accuracy near current state-of-the-art methods, which dwelve a bit deeper into enrichment of the dataset for example. Up to now we have thus tried:\n",
    "\n",
    "* SVM\n",
    "* Naive Bayes\n",
    "\n",
    "Of which NB performed a bit better. Next possible step would include a more sophisticated prediction method, such as deep learning or additional preprocessing of the dataset in order to obtain better results. We decide to continue from the TFIDF obtained and construct a deep learning algorithm, capable of learning the difference between the objective and subjective documents. The following algorithm is implemented using the Theano library, an efficient, GPU based library for dealing with tensors. We use Nvidia GeForce 560 series GPU to train the model, which already represents the first difference between other models and the DL one - the computational time required.\n",
    "\n",
    "For successful implementation of the deep learning algorithm, we also use Keras, a higher level abstraction to construct deep learning algorithms. This implementation can not deal with sparse matrices, as the train matrix is meant to be trained in batches. This can be achieved using the following process"
   ]
  },
  {
   "cell_type": "code",
   "execution_count": null,
   "metadata": {
    "collapsed": true,
    "slideshow": {
     "slide_type": "slide"
    }
   },
   "outputs": [],
   "source": [
    "from keras.preprocessing.text import Tokenizer, one_hot\n",
    "import numpy as np\n",
    "\n",
    "\n",
    "def test_one_hot():\n",
    "    text = 'The cat sat on the mat.'\n",
    "    encoded = one_hot(text, 5)\n",
    "    print (encoded)\n",
    "\n",
    "\n",
    "def test_tokenizer():\n",
    "    texts = ['The cat sat on the mat.',\n",
    "             'The dog sat on the log.',\n",
    "             'Dogs and cats living together.']\n",
    "    tokenizer = Tokenizer(nb_words=5)\n",
    "    tokenizer.fit_on_texts(texts)\n",
    "\n",
    "    sequences = []\n",
    "    for seq in tokenizer.texts_to_sequences_generator(texts):\n",
    "        sequences.append(seq)\n",
    "    print (sequences)\n",
    "\n",
    "    tokenizer.fit_on_sequences(sequences)\n",
    "\n",
    "    for mode in ['binary', 'count', 'tfidf', 'freq']:\n",
    "        matrix = tokenizer.texts_to_matrix(texts, mode)\n",
    "        print (matrix)\n",
    "\n",
    "test_tokenizer()\n",
    "\n",
    "\n",
    "# >>> from nltk.stem import WordNetLemmatizer\n",
    "# >>> wordnet_lemmatizer = WordNetLemmatizer()\n",
    "# >>> wordnet_lemmatizer.lemmatize(‘dogs’)\n",
    "# u’dog’\n",
    "# >>> wordnet_lemmatizer.lemmatize(‘churches’)\n",
    "# u’church’\n",
    "# >>> wordnet_lemmatizer.lemmatize(‘aardwolves’)"
   ]
  },
  {
   "cell_type": "markdown",
   "metadata": {
    "slideshow": {
     "slide_type": "subslide"
    }
   },
   "source": [
    "Deep learning algorithm is presented in the following code snippet:"
   ]
  },
  {
   "cell_type": "code",
   "execution_count": null,
   "metadata": {
    "collapsed": true,
    "slideshow": {
     "slide_type": "slide"
    }
   },
   "outputs": [],
   "source": [
    "from keras.preprocessing.text import Tokenizer, one_hot\n",
    "\n",
    "from keras.models import Sequential\n",
    "from keras.layers import Dense\n",
    "from keras.regularizers import l2, activity_l2\n",
    "import numpy as np\n",
    "from keras.layers import Dropout\n",
    "from nltk.corpus import stopwords\n",
    "import collections\n",
    "import pandas as pd\n",
    "from nltk.stem.porter import *\n",
    "from nltk import FreqDist\n",
    "import matplotlib.pyplot as plt\n",
    "from sklearn.feature_extraction.text import TfidfVectorizer, CountVectorizer\n",
    "import numpy as np\n",
    "from sklearn.svm import SVC\n",
    "from sklearn.metrics import accuracy_score\n",
    "from sklearn.feature_extraction.text import CountVectorizer\n",
    "from sklearn.feature_extraction.text import TfidfTransformer\n",
    "from sklearn.linear_model import SGDClassifier\n",
    "from sklearn.model_selection import GridSearchCV\n",
    "from sklearn.pipeline import Pipeline\n",
    "from time import time\n",
    "from sklearn.naive_bayes import MultinomialNB\n",
    "\n",
    "## Read the subjective files..\n",
    "subjective = {}\n",
    "stemmer = PorterStemmer() ## construct a stemmer\n",
    "stop = set(stopwords.words('english'))\n",
    "\n",
    "train_corpus = []\n",
    "test_corpus = []\n",
    "\n",
    "vocab = [];\n",
    "tabu_words = [\"\\n\",\"(\",\")\",'\"']\n",
    "\n",
    "## for dataset construction\n",
    "index = 0\n",
    "\n",
    "## preprocessing function\n",
    "def stem_stopwords(entry):\n",
    "    return list(filter(lambda x: \n",
    "                       x!= None,[stemmer.stem(word) if \n",
    "                                           word not in stop and word not in \n",
    "                                           tabu_words else None for word in entry.split(\" \")]))\n",
    "\n",
    "with open('subjective.txt','r',encoding=\"ISO-8859-1\") as f:\n",
    "    for line in f:\n",
    "        index +=1\n",
    "        if index <= 3500:\n",
    "            ## this will be labeled as subj (0)\n",
    "            train_corpus.append((int(1),\" \".join(stem_stopwords(line))))\n",
    "            for token in stem_stopwords(line):\n",
    "                ## common vocabulary\n",
    "                vocab.append(token)\n",
    "        else:\n",
    "            test_corpus.append((int(1),(\" \".join(stem_stopwords(line)))))\n",
    "\n",
    "\n",
    "with open('objective.txt','r',encoding=\"ISO-8859-1\") as f:\n",
    "    for line in f:\n",
    "        index +=1\n",
    "        ## from 5k to 8.5k are the next index ranges..\n",
    "        if index <= 8500:\n",
    "        ## labeled as (1)\n",
    "            train_corpus.append((int(0),\" \".join(stem_stopwords(line))))\n",
    "\n",
    "            for token in stem_stopwords(line):\n",
    "                ## common vocabulary\n",
    "                vocab.append(token)\n",
    "        else:\n",
    "            test_corpus.append((int(0),(\" \".join(stem_stopwords(line)))))\n",
    "\n",
    "\n",
    "\n",
    "\n",
    "### up to this point, we do not change the code!\n",
    "\n",
    "## Train data is still in the format: [(label, text)...].\n",
    "\n",
    "## We need to transform the train and also the test corpus\n",
    "\n",
    "## specify frequencies, this constructs different number of features..\n",
    "def trim_vocab(corpus, freq):\n",
    "    return set(filter(lambda x: x != None, [s if corpus.count(s) > freq else None for s in vocab]))\n",
    "\n",
    "#print (len(trim_vocab(vocab,60)))\n",
    "\n",
    "train_labs, train_text = [x for x,_ in train_corpus], [x for _,x in train_corpus]\n",
    "test_labs, test_text = [x for x,_ in test_corpus], [x for _,x in test_corpus]\n",
    "\n",
    "tfidf_transformer = TfidfVectorizer(vocabulary= trim_vocab(vocab,30))\n",
    "X_train_tfidf = tfidf_transformer.fit_transform(train_text)\n",
    "X_test_tfidf =  tfidf_transformer.fit_transform(test_text)\n",
    "\n",
    "print(X_train_tfidf.shape)\n",
    "\n",
    "input_size = X_train_tfidf.shape[1]\n",
    "\n",
    "x_train = X_train_tfidf.toarray()\n",
    "x_test = X_test_tfidf.toarray()\n",
    "\n",
    "initsize = input_size\n",
    "model = Sequential()\n",
    "model.add(Dense(int(initsize), input_dim=input_size, init='uniform', activation='relu'))\n",
    "model.add(Dense(300, init='uniform', activation='relu'))\n",
    "model.add(Dropout(0.2))\n",
    "model.add(Dense(150, init='uniform', activation='relu'))\n",
    "model.add(Dense(80, init='uniform', activation='relu'))\n",
    "model.add(Dropout(0.3))\n",
    "model.add(Dense(5, init='uniform', activation='relu'))\n",
    "model.add(Dropout(0.3))\n",
    "model.add(Dense(1, init='uniform', activation='sigmoid'))\n",
    "model.compile(loss='binary_crossentropy', optimizer='adam', metrics=['accuracy'])\n",
    "\n",
    "model.summary()\n",
    "model.fit(x_train, train_labs, nb_epoch=15, batch_size=10, verbose=0)\n",
    " \n",
    "score = model.evaluate(x_test, test_labs, verbose=0)\n",
    "print('Test score:', score[0])\n",
    "print('Test accuracy:', score[1])\n",
    "\n",
    "\n",
    "____________________\n",
    "Layer (type)                     Output Shape          Param #     Connected to                     \n",
    "====================================================================================================\n",
    "dense_1 (Dense)                  (None, 2658)          7067622     dense_input_1[0][0]              \n",
    "____________________________________________________________________________________________________\n",
    "dense_2 (Dense)                  (None, 600)           1595400     dense_1[0][0]                    \n",
    "____________________________________________________________________________________________________\n",
    "dropout_1 (Dropout)              (None, 600)           0           dense_2[0][0]                    \n",
    "____________________________________________________________________________________________________\n",
    "dense_3 (Dense)                  (None, 150)           90150       dropout_1[0][0]                  \n",
    "____________________________________________________________________________________________________\n",
    "dense_4 (Dense)                  (None, 80)            12080       dense_3[0][0]                    \n",
    "____________________________________________________________________________________________________\n",
    "dropout_2 (Dropout)              (None, 80)            0           dense_4[0][0]                    \n",
    "____________________________________________________________________________________________________\n",
    "dense_5 (Dense)                  (None, 30)            2430        dropout_2[0][0]                  \n",
    "____________________________________________________________________________________________________\n",
    "dropout_3 (Dropout)              (None, 30)            0           dense_5[0][0]                    \n",
    "____________________________________________________________________________________________________\n",
    "dense_6 (Dense)                  (None, 20)            620         dropout_3[0][0]                  \n",
    "____________________________________________________________________________________________________\n",
    "dense_7 (Dense)                  (None, 5)             105         dense_6[0][0]                    \n",
    "____________________________________________________________________________________________________\n",
    "dropout_4 (Dropout)              (None, 5)             0           dense_7[0][0]                    \n",
    "____________________________________________________________________________________________________\n",
    "dense_8 (Dense)                  (None, 1)             6           dropout_4[0][0]                  \n",
    "====================================================================================================\n",
    "Total params: 8,768,413\n",
    "Trainable params: 8,768,413\n",
    "Non-trainable params: 0\n",
    "____________________________________________________________________________________________________\n",
    "Epoch 1/15\n",
    "\n"
   ]
  },
  {
   "cell_type": "markdown",
   "metadata": {
    "slideshow": {
     "slide_type": "subslide"
    }
   },
   "source": [
    "We can also try with a simple, convolutional neural network!"
   ]
  },
  {
   "cell_type": "code",
   "execution_count": null,
   "metadata": {
    "collapsed": true,
    "slideshow": {
     "slide_type": "slide"
    }
   },
   "outputs": [],
   "source": [
    "from sklearn.neural_network import MLPClassifier\n",
    "pipeline3 = Pipeline([\n",
    "    ('tfidf',  TfidfVectorizer()),\n",
    "    ('nn',MLPClassifier(solver='lbfgs', alpha=1e-5,\n",
    "                    hidden_layer_sizes=(5, 2), random_state=1))\n",
    "])\n",
    "\n",
    "parameters2 = {\n",
    "    'tfidf__max_features' : [3000,4000,6000,8000,10000],\n",
    "    'nn__hidden_layer_sizes' : [(5,2),(10,2),(15,2),(15,5),(15,10),(80,20,5)]\n",
    "}\n",
    "\n",
    "if __name__ == \"__main__\":\n",
    "\n",
    "    grid_search2 = GridSearchCV(pipeline3,parameters2, n_jobs=4, verbose=1)\n",
    "    t0 = time()\n",
    "    grid_search2.fit([x[1] for x in train_corpus], [x[0] for x in train_corpus])\n",
    "    print(\"done in %0.3fs\" % (time() - t0))\n",
    "    print(\"Best score: %0.3f\" % grid_search2.best_score_)\n",
    "    print(\"Best parameters set:\")\n",
    "    best_parameters = grid_search2.best_estimator_.get_params()\n",
    "    for param_name in sorted(parameters2.keys()):\n",
    "        print(\"\\t%s: %r\" % (param_name, best_parameters[param_name]))\n",
    "    predictions = grid_search2.best_estimator_.predict([x[1] for x in test_corpus]) # test labs\n",
    "    targets = [x[0] for x in test_corpus]\n",
    "    print (\"nn: \",accuracy_score(predictions,targets))   \n",
    "    \n",
    "    \n",
    "    # results\n",
    "    Fitting 3 folds for each of 30 candidates, totalling 90 fits\n",
    "[Parallel(n_jobs=4)]: Done  42 tasks      | elapsed:   38.2s\n",
    "[Parallel(n_jobs=4)]: Done  90 out of  90 | elapsed:  4.9min finished\n",
    "done in 300.584s\n",
    "Best score: 0.873\n",
    "Best parameters set:\n",
    "\tnn__hidden_layer_sizes: (15, 5)\n",
    "\ttfidf__max_features: 8000\n",
    "nn:  0.868666666667\n"
   ]
  },
  {
   "cell_type": "markdown",
   "metadata": {
    "slideshow": {
     "slide_type": "subslide"
    }
   },
   "source": [
    "Algorithms used in this study represent different learning paradigms, and we can observe the following>\n",
    "\n",
    "First: neural network based methods overall perform a bit worse than the SVM and NB classifiers.\n",
    "    \n",
    "Approaches can not be optimized using lematization, stemming is a better alternative."
   ]
  },
  {
   "cell_type": "code",
   "execution_count": 5,
   "metadata": {
    "collapsed": false,
    "slideshow": {
     "slide_type": "slide"
    }
   },
   "outputs": [
    {
     "data": {
      "text/html": [
       "<div>\n",
       "<table border=\"1\" class=\"dataframe\">\n",
       "  <thead>\n",
       "    <tr style=\"text-align: right;\">\n",
       "      <th></th>\n",
       "      <th>Deep architecture</th>\n",
       "      <th>Naive Bayes</th>\n",
       "      <th>Neural net</th>\n",
       "      <th>SVM</th>\n",
       "    </tr>\n",
       "  </thead>\n",
       "  <tbody>\n",
       "    <tr>\n",
       "      <th>Stemming</th>\n",
       "      <td>0.862</td>\n",
       "      <td>0.9</td>\n",
       "      <td>0.873</td>\n",
       "      <td>0.884</td>\n",
       "    </tr>\n",
       "    <tr>\n",
       "      <th>Lematization</th>\n",
       "      <td>/</td>\n",
       "      <td>0.86</td>\n",
       "      <td>/</td>\n",
       "      <td>0.85</td>\n",
       "    </tr>\n",
       "    <tr>\n",
       "      <th>Train time</th>\n",
       "      <td>Days/model (GPU)</td>\n",
       "      <td>4min/model</td>\n",
       "      <td>20min/model</td>\n",
       "      <td>2-3min/model</td>\n",
       "    </tr>\n",
       "  </tbody>\n",
       "</table>\n",
       "</div>"
      ],
      "text/plain": [
       "             Deep architecture Naive Bayes   Neural net           SVM\n",
       "Stemming                 0.862         0.9        0.873         0.884\n",
       "Lematization                 /        0.86            /          0.85\n",
       "Train time    Days/model (GPU)  4min/model  20min/model  2-3min/model"
      ]
     },
     "execution_count": 5,
     "metadata": {},
     "output_type": "execute_result"
    }
   ],
   "source": [
    "import pandas as pd\n",
    "import numpy as np\n",
    "\n",
    "d = {'Naive Bayes' : [0.90, 0.86,\"4min/model\"],\n",
    "     'SVM' : [0.884, 0.85,\"2-3min/model\"],\n",
    "    'Neural net' : [0.873, \"/\",\"20min/model\"],\n",
    "    'Deep architecture' : [0.862, \"/\",\"Days/model (GPU)\"]} \n",
    "\n",
    "pd.DataFrame(d,index=[\"Stemming\",\"Lematization\",\"Train time\"])\n",
    "\n",
    "## all algorithms were extensively tested on different tfidf feature space sizes, \n",
    "## maximal performance was achieved using NB with more than 9000 features\n"
   ]
  },
  {
   "cell_type": "markdown",
   "metadata": {
    "slideshow": {
     "slide_type": "slide"
    }
   },
   "source": [
    "# interpretation of the results\n",
    "\n",
    "One of the main observations is, that the NB model performed extremely well compared to other models. An interesting observation is also, that the deep learning architecture constructed obtained similar results with about a 25% of features used for other algorithms (800-1000). Each algorithm could be aditionally tuned for beter performance, yet main aim of this study is to observe, whether an ad hoc deep learning architecture can be constructed, which can in fact perform similarly to known methods. This goal was partially achieved, yet due to high computational complexity, such architecture is infeasible to train on an average consumer GPU card.\n",
    "\n",
    "## Comparison to the benchmark study\n",
    "\n",
    "As one of the main goals was to prove, that algorithms with same accuracy can be constructed for the study by Maas et. al. Main observation regarding these results is, that Naive Bayes again performed better than other methods, and similarly to the best accuracy scores in the aforementioned paper. Constructed deep learning architecture performed on the worse end, compared to other classifiers, yet as it was mentioned before, this is an optimal opportunitiy for further improvements, which might capture the latent features, currently not well described.\n",
    "\n",
    "\n",
    "# Bibliography\n",
    "\n",
    "Bird, S., 2006. NLTK: the natural language toolkit. Association for Computational Linguistics, pp. 69–72. doi:10.3115/1225403.1225421\n",
    "\n",
    "Maas, A.L., 2011. Learning Word Vectors for Sentiment Analysis. HLT ’11 Proceedings of the 49th Annual Meeting of the Association for Computational Linguistics: Human Language Technologies - Volume 1 142–150.\n",
    "\n",
    "Pang, B., Lee, L., 2004. A sentimental education: sentiment analysis using subjectivity summarization based on minimum cuts. Association for Computational Linguistics, p. 271–es. doi:10.3115/1218955.1218990\n",
    "\n",
    "Pang, B., Lee, L., Vaithyanathan, S., 2002. Thumbs up?: sentiment classification using machine learning techniques. Association for Computational Linguistics, pp. 79–86. doi:10.3115/1118693.1118704\n"
   ]
  }
 ],
 "metadata": {
  "celltoolbar": "Slideshow",
  "kernelspec": {
   "display_name": "Python 3",
   "language": "python",
   "name": "python3"
  },
  "language_info": {
   "codemirror_mode": {
    "name": "ipython",
    "version": 3
   },
   "file_extension": ".py",
   "mimetype": "text/x-python",
   "name": "python",
   "nbconvert_exporter": "python",
   "pygments_lexer": "ipython3",
   "version": "3.4.3"
  }
 },
 "nbformat": 4,
 "nbformat_minor": 0
}
